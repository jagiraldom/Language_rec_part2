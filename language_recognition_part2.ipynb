{
 "cells": [
  {
   "attachments": {},
   "cell_type": "markdown",
   "metadata": {},
   "source": [
    "# Language prediction: part 2"
   ]
  },
  {
   "attachments": {},
   "cell_type": "markdown",
   "metadata": {},
   "source": [
    "In this notebook we are going to train a simple statistical model attempting to predict the language of a string input. For this we will implement the bigram model and train it with two books, one in english and the other one in spanish. This will be our basis for calculating the log likelihood for the strings to be predicted."
   ]
  },
  {
   "attachments": {},
   "cell_type": "markdown",
   "metadata": {},
   "source": [
    "#### Packages"
   ]
  },
  {
   "cell_type": "code",
   "execution_count": 34,
   "metadata": {},
   "outputs": [],
   "source": [
    "from math import log\n",
    "import itertools\n",
    "import unidecode\n",
    "import matplotlib.pyplot as plt\n",
    "import os\n",
    "import pandas as pd"
   ]
  },
  {
   "attachments": {},
   "cell_type": "markdown",
   "metadata": {},
   "source": [
    "#### Base alphabet\n",
    "This is the standard English alphabet, excluding any other symbols."
   ]
  },
  {
   "cell_type": "code",
   "execution_count": 35,
   "metadata": {},
   "outputs": [],
   "source": [
    "en_alphabet = list(range(97, 123))\n",
    "\n",
    "all_ascii = list(range(256))\n",
    "non_alphabetic_en = [simbol for simbol in all_ascii if simbol not in en_alphabet] "
   ]
  },
  {
   "attachments": {},
   "cell_type": "markdown",
   "metadata": {},
   "source": [
    "#### Read file and clean symbols\n",
    "\n",
    "At this stage we have the implementation of functions to extract the text from the file and remove or transform the characters found."
   ]
  },
  {
   "cell_type": "code",
   "execution_count": 36,
   "metadata": {},
   "outputs": [],
   "source": [
    "def scan_file(text_file:str)->str:\n",
    "    \"\"\"\n",
    "    Reads 'text_file'\n",
    "    \"\"\"\n",
    "    \n",
    "    with open(text_file, 'r', encoding='utf-8') as file:\n",
    "        text = (file.readlines())\n",
    "    all_words = \"\".join(text)\n",
    "\n",
    "    return all_words\n",
    "\n",
    "def clean_string(string:str)->str:\n",
    "    string = string.lower()\n",
    "    string = string.replace(\"ñ\", \"n\")\n",
    "    string = string.replace(\"á\", \"a\")\n",
    "    string = string.replace(\"é\", \"e\")\n",
    "    string = string.replace(\"í\", \"i\")\n",
    "    string = string.replace(\"ó\", \"o\")\n",
    "    string = string.replace(\"ú\", \"u\")\n",
    "    string = string.replace(\"—\", \"\")\n",
    "    string = unidecode.unidecode(string)\n",
    "    for code in non_alphabetic_en:\n",
    "        string = string.replace(chr(code), \"\")\n",
    "    return string"
   ]
  },
  {
   "attachments": {},
   "cell_type": "markdown",
   "metadata": {},
   "source": [
    "#### Build pairs and count frecuencies\n",
    "\n",
    "We count the frequencies of each letter individually in the text. We also process to count the frequencies of all possible letter pairs to construct our joint probability."
   ]
  },
  {
   "cell_type": "code",
   "execution_count": 37,
   "metadata": {},
   "outputs": [],
   "source": [
    "en_alphabet_chr = [chr(code) for code in en_alphabet]\n",
    "\n",
    "raw = list(itertools.product(en_alphabet_chr, en_alphabet_chr))\n",
    "lista = [x+y for x,y in raw] # list of all letter combinations\n",
    "\n",
    "def count_pairs(string:str)->dict:\n",
    "    resume = {pair:0 for pair in lista}\n",
    "    parts = []\n",
    "    for i in range(len(string)-1):\n",
    "        parts.append(string[i:i+2])\n",
    "    set_parts = set(parts) # quitar repetidos\n",
    "    for pair in set_parts:\n",
    "        resume[pair] = parts.count(pair)/len(parts)\n",
    "    return resume\n",
    "\n",
    "def count_letter(string:str)->dict:\n",
    "    resume = {letter:0 for letter in en_alphabet_chr}\n",
    "    if len(string) != 0:\n",
    "        for letter in en_alphabet_chr:\n",
    "            resume[letter] = string.count(letter)/len(string)\n",
    "    return resume"
   ]
  },
  {
   "cell_type": "code",
   "execution_count": 38,
   "metadata": {},
   "outputs": [],
   "source": [
    "spanish_model_ordered = count_pairs(clean_string(scan_file(os.path.join(\"Books\",\"elamorenlos.txt\")))) # Frecuencies of all pairs, ab =! ba\n",
    "spanish_model = count_letter(clean_string(scan_file(os.path.join(\"Books\",\"elamorenlos.txt\")))) # Frecuencies of all letters\n",
    "english_model_ordered = count_pairs(clean_string(scan_file(os.path.join(\"Books\",\"harry.txt\"))))\n",
    "english_model = count_letter(clean_string(scan_file(os.path.join(\"Books\",\"harry.txt\"))))"
   ]
  },
  {
   "cell_type": "code",
   "execution_count": 39,
   "metadata": {},
   "outputs": [
    {
     "data": {
      "image/png": "[encoded data removed]",
      "text/plain": [
       "<Figure size 640x480 with 1 Axes>"
      ]
     },
     "metadata": {},
     "output_type": "display_data"
    }
   ],
   "source": [
    "# Here is an example of the frequency of each of the letter combinations (676 in total) for the English model\n",
    "names = list(english_model_ordered.keys())\n",
    "values = list(english_model_ordered.values())\n",
    "\n",
    "plt.bar(range(len(english_model_ordered)), values)\n",
    "plt.show()"
   ]
  },
  {
   "attachments": {},
   "cell_type": "markdown",
   "metadata": {},
   "source": [
    "#### Joint probabilities\n",
    "\n",
    "We use the frequencies of each letter pair possibility and put together all those that are permutations of each other to generate a dictionary with all the joint probabilities."
   ]
  },
  {
   "cell_type": "code",
   "execution_count": 40,
   "metadata": {},
   "outputs": [],
   "source": [
    "def joint_prob(model_bigram):\n",
    "    joint = dict()\n",
    "    keys_list = list(model_bigram.keys())\n",
    "    for item in keys_list:\n",
    "        if item[0] != item[1]:\n",
    "            joint[item] = (model_bigram[item] + model_bigram[item[::-1]])/2\n",
    "        else:\n",
    "            joint[item] = model_bigram[item]\n",
    "    return joint\n",
    "\n",
    "joint_english = joint_prob(english_model_ordered) # These are the joint probabilities\n",
    "joint_spanish = joint_prob(spanish_model_ordered)"
   ]
  },
  {
   "attachments": {},
   "cell_type": "markdown",
   "metadata": {},
   "source": [
    "With this we can measure the effectiveness of the model on the test data."
   ]
  },
  {
   "cell_type": "code",
   "execution_count": 41,
   "metadata": {},
   "outputs": [],
   "source": [
    "def log_likelihood(string:str, probs:dict):\n",
    "    result = 0.0\n",
    "    parts = []\n",
    "    for i in range(len(string)-1):\n",
    "        parts.append(string[i:i+2])\n",
    "    for pair in parts:\n",
    "        if probs[pair] != 0:\n",
    "            result = result + log(probs[pair])\n",
    "    return result"
   ]
  },
  {
   "cell_type": "code",
   "execution_count": 42,
   "metadata": {},
   "outputs": [
    {
     "name": "stdout",
     "output_type": "stream",
     "text": [
      "Model(simple joint probabilities) hits on test examples labeled as English: 0.9415162454873646\n"
     ]
    }
   ],
   "source": [
    "en = pd.read_csv(os.path.join(\"Test\", \"English_test.csv\"))[\"Text\"]\n",
    "correct_english = 0\n",
    "total_english = en.size\n",
    "for row in en.items():\n",
    "    english = log_likelihood(clean_string(row[1]), joint_english)\n",
    "    spanish = log_likelihood(clean_string(row[1]), joint_spanish)\n",
    "    if english > spanish:\n",
    "        correct_english += 1\n",
    "print(f\"Model(simple joint probabilities) hits on test examples labeled as English: {correct_english/total_english}\")"
   ]
  },
  {
   "cell_type": "code",
   "execution_count": 43,
   "metadata": {},
   "outputs": [
    {
     "name": "stdout",
     "output_type": "stream",
     "text": [
      "Model(simple joint probabilities) hits on test examples labeled as Spanish: 0.9181929181929182\n"
     ]
    }
   ],
   "source": [
    "en = pd.read_csv(os.path.join(\"Test\", \"Spanish_test.csv\"))[\"Text\"]\n",
    "correct_spanish = 0\n",
    "total_spanish = en.size\n",
    "for row in en.items():\n",
    "    english = log_likelihood(clean_string(row[1]), joint_english)\n",
    "    spanish = log_likelihood(clean_string(row[1]), joint_spanish)\n",
    "    if english < spanish:\n",
    "        correct_spanish += 1\n",
    "print(f\"Model(simple joint probabilities) hits on test examples labeled as Spanish: {correct_spanish/total_spanish}\")"
   ]
  },
  {
   "attachments": {},
   "cell_type": "markdown",
   "metadata": {},
   "source": [
    "#### Conditional probabilities\n",
    "Finally, we can use our joint probabilities and individual (or marginal) probabilities to generate a slightly more realistic model with conditional probabilities.\n",
    "$$P(X|Y) = \\frac{P(X,Y)}{P(Y)}$$"
   ]
  },
  {
   "cell_type": "code",
   "execution_count": 44,
   "metadata": {},
   "outputs": [],
   "source": [
    "def log_likelihood_contional(string:str, dist_1:dict, dist_2:dict):\n",
    "    result = 0.0\n",
    "    parts = []\n",
    "    for i in range(len(string)-1):\n",
    "        parts.append(string[i:i+2])\n",
    "    for pair in parts:\n",
    "        if dist_1[pair] != 0:\n",
    "            result = result + log(dist_1[pair]/dist_2[pair[0]])\n",
    "    return result"
   ]
  },
  {
   "attachments": {},
   "cell_type": "markdown",
   "metadata": {},
   "source": [
    "#### Testing for the conditional probabilities (Bigram model)"
   ]
  },
  {
   "cell_type": "code",
   "execution_count": 45,
   "metadata": {},
   "outputs": [
    {
     "name": "stdout",
     "output_type": "stream",
     "text": [
      "Model(conditional probabilities) hits on test examples labeled as English: 0.9487364620938629\n"
     ]
    }
   ],
   "source": [
    "en = pd.read_csv(os.path.join(\"Test\", \"English_test.csv\"))[\"Text\"]\n",
    "correct_english = 0\n",
    "total_english = en.size\n",
    "for row in en.items():\n",
    "    english = log_likelihood_contional(clean_string(row[1]), joint_english, english_model)\n",
    "    spanish = log_likelihood_contional(clean_string(row[1]), joint_spanish, spanish_model)\n",
    "    if english > spanish:\n",
    "        correct_english += 1\n",
    "print(f\"Model(conditional probabilities) hits on test examples labeled as English: {correct_english/total_english}\")"
   ]
  },
  {
   "cell_type": "code",
   "execution_count": 46,
   "metadata": {},
   "outputs": [
    {
     "name": "stdout",
     "output_type": "stream",
     "text": [
      "Model(simple joint probabilities) hits on test examples labeled as Spanish: 0.9536019536019537\n"
     ]
    }
   ],
   "source": [
    "en = pd.read_csv(os.path.join(\"Test\", \"Spanish_test.csv\"))[\"Text\"]\n",
    "correct_spanish = 0\n",
    "total_spanish = en.size\n",
    "for row in en.items():\n",
    "    english = log_likelihood_contional(clean_string(row[1]), joint_english, english_model)\n",
    "    spanish = log_likelihood_contional(clean_string(row[1]), joint_spanish, spanish_model)\n",
    "    if english < spanish:\n",
    "        correct_spanish += 1\n",
    "print(f\"Model(simple joint probabilities) hits on test examples labeled as Spanish: {correct_spanish/total_spanish}\")"
   ]
  },
  {
   "attachments": {},
   "cell_type": "markdown",
   "metadata": {},
   "source": [
    "#### Conclusions\n",
    "\n",
    "Building a model using conditional probabilities allowed for improved prediction performance compared to the joint probability model, and is a slightly more realistic approach to the metrics used for natural language processing."
   ]
  }
 ],
 "metadata": {
  "kernelspec": {
   "display_name": "Python 3",
   "language": "python",
   "name": "python3"
  },
  "language_info": {
   "codemirror_mode": {
    "name": "ipython",
    "version": 3
   },
   "file_extension": ".py",
   "mimetype": "text/x-python",
   "name": "python",
   "nbconvert_exporter": "python",
   "pygments_lexer": "ipython3",
   "version": "3.11.1"
  },
  "orig_nbformat": 4,
  "vscode": {
   "interpreter": {
    "hash": "ed86cd87725ed3eb26236ff68aec3c2b48ba86ad759f4f31f53d096e39ba85b5"
   }
  }
 },
 "nbformat": 4,
 "nbformat_minor": 2
}
